{
 "cells": [
  {
   "attachments": {},
   "cell_type": "markdown",
   "metadata": {},
   "source": [
    "# Hipótesis y objetivos del EDA\n",
    "\n",
    "Se han establecido 3 objetivos a analizar con este proyecto analítico:\n",
    "\n",
    "## Concordancia\n",
    "\n",
    "Se espera que la concordancia más efectiva sea la exacta en términos de ventas.\n",
    "\n",
    "\n",
    "-¿Qué resultados ofrece cada tipo?\n",
    "\n",
    "-Relación de pedidos y clics\n",
    "\n",
    "-Mejor ratio click conversión\n",
    "\n",
    "\n",
    "## Palabras Clave\n",
    "\n",
    "Estudio de las palabras clave más relevantes en función.\n",
    "\n",
    "-¿Existe correlación respecto a variables?\n",
    "-¿Cuál es la media de CPC?\n",
    "-¿Cuáles son las kw más rentables?\n",
    "\n",
    "## Ineficiencias\n",
    "\n",
    "Se asume que existen keyword ineficientes que consumen parte del presupuesto.\n",
    "\n",
    "-¿Qué kw que han consumido parte del presupuesto sin  ventas?\n",
    "-¿Qué kw tienen ventas pero son demasiado costosas?"
   ]
  }
 ],
 "metadata": {
  "language_info": {
   "name": "python"
  },
  "orig_nbformat": 4
 },
 "nbformat": 4,
 "nbformat_minor": 2
}
